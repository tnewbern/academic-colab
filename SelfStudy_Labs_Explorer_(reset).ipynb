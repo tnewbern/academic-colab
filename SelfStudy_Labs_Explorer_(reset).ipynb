{
  "nbformat": 4,
  "nbformat_minor": 0,
  "metadata": {
    "colab": {
      "name": "SelfStudy Labs:Explorer (reset).ipynb",
      "provenance": [],
      "private_outputs": true,
      "collapsed_sections": [],
      "toc_visible": true,
      "authorship_tag": "ABX9TyNQ/93pT3aawM0tS628igIN",
      "include_colab_link": true
    },
    "kernelspec": {
      "name": "python3",
      "display_name": "Python 3"
    }
  },
  "cells": [
    {
      "cell_type": "markdown",
      "metadata": {
        "id": "view-in-github",
        "colab_type": "text"
      },
      "source": [
        "<a href=\"https://colab.research.google.com/github/tnewbern/academic-colab/blob/master/SelfStudy_Labs_Explorer_(reset).ipynb\" target=\"_parent\"><img src=\"https://colab.research.google.com/assets/colab-badge.svg\" alt=\"Open In Colab\"/></a>"
      ]
    },
    {
      "cell_type": "markdown",
      "metadata": {
        "id": "QF_dQZsJgrB2",
        "colab_type": "text"
      },
      "source": [
        "# SelfStudy Labs:Explorer — Reset Publications"
      ]
    },
    {
      "cell_type": "code",
      "metadata": {
        "id": "a4QaiIu2H6iO",
        "colab_type": "code",
        "colab": {}
      },
      "source": [
        "#@title Configure Repo { display-mode: \"form\" }\n",
        "REPOSITORY = \"\" #@param {type:\"string\"}\n",
        "SITEDIR = \"explorer\" #@param {type:\"string\"}\n",
        "PUBDIR = \"publication\" #@param {type:\"string\"}\n",
        "BRANCH = \"reset-colab\" #@param {type:\"string\"}\n",
        "\n",
        "if not REPOSITORY:\n",
        "  raise ValueError(\"You must specify a site respository\")\n",
        "%env REPOSITORY $REPOSITORY\n",
        "%env SITEDIR $SITEDIR\n",
        "%env PUBDIR $PUBDIR\n",
        "%env BRANCH $BRANCH"
      ],
      "execution_count": 0,
      "outputs": []
    },
    {
      "cell_type": "markdown",
      "metadata": {
        "id": "qdoUN6pPRbOJ",
        "colab_type": "text"
      },
      "source": [
        "## Clone Site"
      ]
    },
    {
      "cell_type": "code",
      "metadata": {
        "id": "Eh63d94PXyPH",
        "colab_type": "code",
        "colab": {}
      },
      "source": [
        "%%shell\n",
        "set -u\n",
        "echo \"git clone --branch $BRANCH $REPOSITORY $SITEDIR\"\n",
        "read -rp \"Username: \" USERNAME\n",
        "read -srp \"Password: \" PASSWORD; echo\n",
        "\n",
        "git config --global pull.ff only\n",
        "git config --global credential.helper store\n",
        "git credential approve <<EOF\n",
        "url=$REPOSITORY\n",
        "username=$USERNAME\n",
        "password=$PASSWORD\n",
        "EOF\n",
        "\n",
        "git clone --no-checkout $REPOSITORY $SITEDIR && cd $SITEDIR\n",
        "git checkout $BRANCH 2>/dev/null || git checkout -b $BRANCH"
      ],
      "execution_count": 0,
      "outputs": []
    },
    {
      "cell_type": "markdown",
      "metadata": {
        "id": "3fU1ZhiyV-ii",
        "colab_type": "text"
      },
      "source": [
        "## Remove Publications\n"
      ]
    },
    {
      "cell_type": "code",
      "metadata": {
        "id": "1xD8JcCGzgW2",
        "colab_type": "code",
        "colab": {}
      },
      "source": [
        "%%shell\n",
        "set -u\n",
        "rm -rvf $SITEDIR/content/$PUBDIR/*/"
      ],
      "execution_count": 0,
      "outputs": []
    },
    {
      "cell_type": "markdown",
      "metadata": {
        "id": "oJrlg_HiSJES",
        "colab_type": "text"
      },
      "source": [
        "## Update Site"
      ]
    },
    {
      "cell_type": "code",
      "metadata": {
        "id": "zjPFTCleVHOX",
        "colab_type": "code",
        "colab": {}
      },
      "source": [
        "%%shell\n",
        "if [ -z \"$(git config user.email)\" ]; then\n",
        "  read -rp \"Email: \" EMAIL\n",
        "  git config --global user.email \"$EMAIL\"\n",
        "fi\n",
        "cd $SITEDIR\n",
        "git add content/$PUBDIR/\n",
        "git commit -m \"Remove Publication Content\"\n",
        "git push -u origin $BRANCH"
      ],
      "execution_count": 0,
      "outputs": []
    }
  ]
}