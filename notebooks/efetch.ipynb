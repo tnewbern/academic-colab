{
  "nbformat": 4,
  "nbformat_minor": 0,
  "metadata": {
    "colab": {
      "name": "SelfStudy Labs:Explorer (efetch).ipynb",
      "provenance": [],
      "private_outputs": true,
      "collapsed_sections": [],
      "authorship_tag": "ABX9TyNT21zwZFgr7wFx8oS79gv+",
      "include_colab_link": true
    },
    "kernelspec": {
      "name": "python3",
      "display_name": "Python 3"
    }
  },
  "cells": [
    {
      "cell_type": "markdown",
      "metadata": {
        "id": "view-in-github",
        "colab_type": "text"
      },
      "source": [
        "<a href=\"https://colab.research.google.com/github/tnewbern/academic-colab/blob/colab/notebooks/efetch.ipynb\" target=\"_parent\"><img src=\"https://colab.research.google.com/assets/colab-badge.svg\" alt=\"Open In Colab\"/></a>"
      ]
    },
    {
      "cell_type": "markdown",
      "metadata": {
        "id": "QF_dQZsJgrB2",
        "colab_type": "text"
      },
      "source": [
        "# SelfStudy Labs:Explorer Import — E-Utilities"
      ]
    },
    {
      "cell_type": "markdown",
      "metadata": {
        "id": "0mXLmZ2hgENm",
        "colab_type": "text"
      },
      "source": [
        "## GitHub Login"
      ]
    },
    {
      "cell_type": "code",
      "metadata": {
        "id": "yi_XEtLpgTr8",
        "colab_type": "code",
        "colab": {}
      },
      "source": [
        "%%shell\n",
        "read -rp \"Username: \" USERNAME\n",
        "read -srp \"Password: \" PASSWORD; echo\n",
        "\n",
        "git config --global pull.ff only\n",
        "git config --global credential.helper store\n",
        "git credential approve <<EOF\n",
        "protocol=https\n",
        "host=github.com\n",
        "username=$USERNAME\n",
        "password=$PASSWORD\n",
        "EOF"
      ],
      "execution_count": 0,
      "outputs": []
    },
    {
      "cell_type": "markdown",
      "metadata": {
        "id": "N6c2kf9Aexnv",
        "colab_type": "text"
      },
      "source": [
        "## E-Search\n",
        "\n",
        "With E-Search, you can use any of the search terms, fields, and filters that are allowed when doing a search from the PMC home page. See [Searching PMC](https://www.ncbi.nlm.nih.gov/books/NBK3825/#_pmchelp_Searching_PMC_) in the [PMC Help Book](https://www.ncbi.nlm.nih.gov/books/NBK3825/) for more information.\n"
      ]
    },
    {
      "cell_type": "code",
      "metadata": {
        "id": "OhadaZkuUylA",
        "colab_type": "code",
        "colab": {},
        "cellView": "both"
      },
      "source": [
        "#@title Retrieve PMC article identifiers (PMCIDs) from a search\n",
        "#@markdown #### Search Term\n",
        "term = \"2019-nCoV OR 2019nCoV OR COVID-19 OR SARS-CoV-2 OR ((wuhan AND coronavirus) AND 2019/12[PDAT]:2030[PDAT]) AND open access[filter]\" #@param {type:\"string\"}\n",
        "#@markdown #### Max Number of Articles\n",
        "retmax = 20 #@param {type:\"number\"}\n",
        "\n",
        "from lxml import etree\n",
        "import requests\n",
        "\n",
        "esearch = requests.get('https://eutils.ncbi.nlm.nih.gov/entrez/eutils/esearch.fcgi', params=dict(\n",
        "    db='pmc',\n",
        "    term=term,\n",
        "    usehistory='y',\n",
        "    sort='relevance',\n",
        "    retmax=retmax,\n",
        "    retstart=0,\n",
        "))\n",
        "esearch.raise_for_status()\n",
        "esearchresult = etree.fromstring(esearch.content)\n",
        "error = esearchresult.find('ERROR')\n",
        "if etree.iselement(error):\n",
        "  raise ValueError(error.text)\n",
        "for error in esearchresult.findall('ErrorList/'):\n",
        "  print('{}: {}'.format(error.tag, error.text))\n",
        "for warning in esearchresult.findall('WarningList/'):\n",
        "  print('{}: {}'.format(warning.tag, warning.text))\n",
        "\n",
        "uidlist = [f\"PMC{uid.text}\" for uid in esearchresult.findall('IdList/Id')]\n",
        "with open('pmc_result.txt', 'w') as file:\n",
        "  file.write(\"\\n\".join(uidlist))"
      ],
      "execution_count": 0,
      "outputs": []
    },
    {
      "cell_type": "code",
      "metadata": {
        "id": "D4hXCAtTVNw7",
        "colab_type": "code",
        "colab": {}
      },
      "source": [
        "uidlist"
      ],
      "execution_count": 0,
      "outputs": []
    },
    {
      "cell_type": "code",
      "metadata": {
        "id": "a4QaiIu2H6iO",
        "colab_type": "code",
        "colab": {}
      },
      "source": [
        "#@title Configure Repo { display-mode: \"form\" }\n",
        "REPOSITORY = \"\" #@param {type:\"string\"}\n",
        "SITEDIR = \"explorer\" #@param {type:\"string\"}\n",
        "PUBDIR = \"publication\" #@param {type:\"string\"}\n",
        "BRANCH = \"import-colab\" #@param {type:\"string\"}\n",
        "\n",
        "if not REPOSITORY:\n",
        "  raise ValueError(\"You must specify a site respository\")\n",
        "%env REPOSITORY $REPOSITORY\n",
        "%env SITEDIR $SITEDIR\n",
        "%env PUBDIR $PUBDIR\n",
        "%env BRANCH $BRANCH"
      ],
      "execution_count": 0,
      "outputs": []
    },
    {
      "cell_type": "markdown",
      "metadata": {
        "id": "qdoUN6pPRbOJ",
        "colab_type": "text"
      },
      "source": [
        "## Clone Site"
      ]
    },
    {
      "cell_type": "code",
      "metadata": {
        "id": "Eh63d94PXyPH",
        "colab_type": "code",
        "colab": {}
      },
      "source": [
        "%%shell\n",
        "set -u\n",
        "echo \"git clone --branch $BRANCH $REPOSITORY $SITEDIR\"\n",
        "read -rp \"Username: \" USERNAME\n",
        "read -srp \"Password: \" PASSWORD; echo\n",
        "\n",
        "git config --global pull.ff only\n",
        "git config --global credential.helper store\n",
        "git credential approve <<EOF\n",
        "url=$REPOSITORY\n",
        "username=$USERNAME\n",
        "password=$PASSWORD\n",
        "EOF\n",
        "\n",
        "git clone --no-checkout $REPOSITORY $SITEDIR && cd $SITEDIR\n",
        "git checkout $BRANCH 2>/dev/null || git checkout -b $BRANCH"
      ],
      "execution_count": 0,
      "outputs": []
    },
    {
      "cell_type": "markdown",
      "metadata": {
        "id": "GB-VI02oRlrF",
        "colab_type": "text"
      },
      "source": [
        "## Create Citations"
      ]
    },
    {
      "cell_type": "code",
      "metadata": {
        "id": "5WhUaiiLDPk_",
        "colab_type": "code",
        "colab": {}
      },
      "source": [
        "from lxml import etree\n",
        "from pathlib import Path\n",
        "import requests\n",
        "\n",
        "esearch = requests.get('https://eutils.ncbi.nlm.nih.gov/entrez/eutils/esearch.fcgi', params=dict(\n",
        "    db='pmc',\n",
        "    term=(\n",
        "        '2019-nCoV OR 2019nCoV OR COVID-19 OR SARS-CoV-2'\n",
        "        ' OR ((wuhan AND coronavirus) AND 2019/12[PDAT]:2030[PDAT])'\n",
        "        ' AND open access[filter]'\n",
        "    ),\n",
        "    usehistory='y',\n",
        "    sort='relevance',\n",
        "    retmax=100,\n",
        "    retstart=0,\n",
        "))\n",
        "esearch.raise_for_status()\n",
        "esearchresult = etree.fromstring(esearch.content)\n",
        "error = esearchresult.find('ERROR')\n",
        "if etree.iselement(error):\n",
        "  raise ValueError(error.text)\n",
        "for error in esearchresult.findall('ErrorList/'):\n",
        "  print('{}: {}'.format(error.tag, error.text))\n",
        "for warning in esearchresult.findall('WarningList/'):\n",
        "  print('{}: {}'.format(warning.tag, warning.text))\n",
        "uidlist = esearchresult.find('IdList')\n",
        "\n",
        "efetch = requests.get('https://eutils.ncbi.nlm.nih.gov/entrez/eutils/efetch.fcgi', params=dict(\n",
        "    db='pmc',\n",
        "    WebEnv=esearchresult.findtext('WebEnv'),\n",
        "    query_key=esearchresult.findtext('QueryKey'),\n",
        "    retmax=esearchresult.findtext('RetMax'),\n",
        "    retstart=esearchresult.findtext('RetStart'),\n",
        "))\n",
        "efetch.raise_for_status()\n",
        "efetchresult = etree.fromstring(efetch.content)\n",
        "error = efetchresult.find('ERROR')\n",
        "if etree.iselement(error):\n",
        "  raise ValueError(error.text)\n",
        "articleset = efetchresult\n",
        "\n",
        "jats_conversion = Path('jats-conversion')\n",
        "if not jats_conversion.exists():\n",
        "  !git clone https://github.com/tnewbern/jats-conversion.git\n",
        "\n",
        "\n",
        "jats_to_bibtex = etree.XSLT(etree.parse('jats-conversion/src/data/xsl/jats-to-bibtex.xsl'))\n",
        "with open('citations.bib', 'wb') as file:\n",
        "  for article in articleset:\n",
        "    jats_to_bibtex(article).write_output(file)\n",
        "    file.write('\\n\\n'.encode('utf-8'))\n",
        "    file.flush()"
      ],
      "execution_count": 0,
      "outputs": []
    },
    {
      "cell_type": "markdown",
      "metadata": {
        "id": "qNlKzbstR6XX",
        "colab_type": "text"
      },
      "source": [
        "## Academic Import"
      ]
    },
    {
      "cell_type": "code",
      "metadata": {
        "id": "JggZ4bS0S6dX",
        "colab_type": "code",
        "colab": {}
      },
      "source": [
        "%pip install -U academic"
      ],
      "execution_count": 0,
      "outputs": []
    },
    {
      "cell_type": "code",
      "metadata": {
        "id": "V_rND5Z5tCnm",
        "colab_type": "code",
        "colab": {}
      },
      "source": [
        "%%shell\n",
        "cd $SITEDIR\n",
        "academic import --bibtex ../citations.bib --overwrite --verbose --publication-dir $PUBDIR"
      ],
      "execution_count": 0,
      "outputs": []
    },
    {
      "cell_type": "markdown",
      "metadata": {
        "id": "oJrlg_HiSJES",
        "colab_type": "text"
      },
      "source": [
        "# Push Changes"
      ]
    },
    {
      "cell_type": "code",
      "metadata": {
        "id": "nTbB64JkcsuP",
        "colab_type": "code",
        "colab": {}
      },
      "source": [
        "%%shell\n",
        "git -C $SITEDIR status"
      ],
      "execution_count": 0,
      "outputs": []
    },
    {
      "cell_type": "code",
      "metadata": {
        "id": "38MXCiBCnet3",
        "colab_type": "code",
        "colab": {}
      },
      "source": [
        "%%shell\n",
        "if [ -z \"$(git config user.email)\" ]; then\n",
        "  read -rp \"Email: \" EMAIL\n",
        "  git config --global user.email \"$EMAIL\"\n",
        "fi\n",
        "cd $SITEDIR\n",
        "git add content/$PUBDIR/\n",
        "git commit -m \"Import Publication Content\"\n",
        "git pull --rebase\n",
        "git push -u origin $BRANCH"
      ],
      "execution_count": 0,
      "outputs": []
    }
  ]
}